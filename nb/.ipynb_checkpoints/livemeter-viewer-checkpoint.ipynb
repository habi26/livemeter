{
 "cells": [
  {
   "cell_type": "markdown",
   "id": "9ca9d702",
   "metadata": {
    "slideshow": {
     "slide_type": "slide"
    }
   },
   "source": [
    "# Livemeter Viewer\n",
    "\n",
    "Der nachfolgende Code entspricht der views.py Datei der Django Installation."
   ]
  },
  {
   "cell_type": "markdown",
   "id": "3d527691",
   "metadata": {
    "slideshow": {
     "slide_type": "slide"
    }
   },
   "source": [
    "## Paketimport\n",
    "\n",
    "Die nötigen Pakete oder Klassen werden importiert."
   ]
  },
  {
   "cell_type": "code",
   "execution_count": null,
   "id": "c00427d1",
   "metadata": {
    "slideshow": {
     "slide_type": "fragment"
    }
   },
   "outputs": [],
   "source": [
    "from django.shortcuts import render\n",
    "from bokeh.plotting import figure\n",
    "from bokeh.embed import components\n",
    "from bokeh.models import Range1d, DatetimeTickFormatter\n",
    "import numpy as np\n",
    "import MySQLdb\n",
    "import pandas as pd\n",
    "import datetime as dt\n",
    "import plotly.graph_objects as go\n",
    "import pytz"
   ]
  },
  {
   "cell_type": "markdown",
   "id": "b2406391",
   "metadata": {
    "slideshow": {
     "slide_type": "slide"
    }
   },
   "source": [
    "## Datenbankverbindung\n",
    "\n",
    "Zuerst wird die in Django hinterlegte Funktion `stream(request)` definiert.\n",
    "Anschliessend stellt MySQLdb die Datenbankverbindung her."
   ]
  },
  {
   "cell_type": "code",
   "execution_count": null,
   "id": "bb1ccc68",
   "metadata": {
    "slideshow": {
     "slide_type": "fragment"
    }
   },
   "outputs": [],
   "source": [
    "def stream(request):\n",
    "\n",
    "    # MySQL Verbindung\n",
    "    db = MySQLdb.connect(\n",
    "        host='habi26.mysql.pythonanywhere-services.com',\n",
    "        user='habi26',\n",
    "        passwd='XXXXX',\n",
    "        db='habi26$livemeter'\n",
    "    )\n",
    "\n",
    "    cursor = db.cursor()"
   ]
  },
  {
   "cell_type": "markdown",
   "id": "ca66785c",
   "metadata": {
    "slideshow": {
     "slide_type": "slide"
    }
   },
   "source": [
    "## Datenabfrage\n",
    "\n",
    "Zunächst wird ein Zeitrange für die abzufragenden Daten definiert. Anschliessend werden die SQL Queries definiert und ausgeführt. Zur automatischen Wiederholung befindet sich die folgenden Codezeilen in einem While Loop."
   ]
  },
  {
   "cell_type": "code",
   "execution_count": null,
   "id": "2b26e181",
   "metadata": {
    "slideshow": {
     "slide_type": "fragment"
    }
   },
   "outputs": [],
   "source": [
    "    while True:\n",
    "        dtStartToday = dt.datetime.combine(dt.date.today(), dt.datetime.min.time())\n",
    "        dtNow = dt.datetime.now()\n",
    "        tz = pytz.timezone(\"Europe/Zurich\")\n",
    "        \n",
    "        \n",
    "        # Definition SQL Queries\n",
    "        sqlQdata = \"SELECT * FROM `meter_live_data` ORDER BY id DESC LIMIT 1;\"\n",
    "        sqlQcounterLP = f\"SELECT COUNT(`value`) AS `values` FROM meter_live_data WHERE `datetime` BETWEEN '{dtStartToday}' AND '{dtNow}';\"\n",
    "        sqlQdataLP = f\"SELECT * FROM meter_live_data WHERE `datetime` BETWEEN '{dtStartToday}' AND '{dtNow}';\"\n",
    "        \n",
    "        # Ausführung SQL Queries\n",
    "        cursor.execute(sqlQdata)\n",
    "        sqlSELdata = cursor.fetchone()\n",
    "        \n",
    "        cursor.execute(sqlQcounterLP)\n",
    "        sqlSELcounterLP = cursor.fetchone()\n",
    "        \n",
    "        cursor.execute(sqlQdataLP)\n",
    "        sqlSELdataLP = cursor.fetchall()"
   ]
  },
  {
   "cell_type": "markdown",
   "id": "213477ac",
   "metadata": {
    "slideshow": {
     "slide_type": "slide"
    }
   },
   "source": [
    "## Datenaufbereitung\n",
    "\n",
    "Die erhaltenen Daten werden für die Verwendung in den Plots vorbereitet. Zudem wird der Tagesverbrauch `wday` berechnet."
   ]
  },
  {
   "cell_type": "code",
   "execution_count": null,
   "id": "bd5d8325",
   "metadata": {
    "slideshow": {
     "slide_type": "fragment"
    }
   },
   "outputs": [],
   "source": [
    "        # Datenverarbeitung\n",
    "        data = np.array(list(sqlSELdata))\n",
    "        counterLP = sqlSELcounterLP\n",
    "        df = pd.DataFrame(sqlSELdataLP, columns=['id', 'datetime', 'meterID',  'value'])\n",
    "        trStart = df['datetime'].iloc[0]\n",
    "        trEnd = (df['datetime'].iloc[-1]) + dt.timedelta(hours=1)\n",
    "        tRange = trEnd - trStart\n",
    "        wDay = ((df['value'].sum())/counterLP) * (tRange.total_seconds()/3600)\n",
    "        \n",
    "        meterID = data[2]\n",
    "        value = data[3]\n",
    "        timestamp = data[1]"
   ]
  },
  {
   "cell_type": "markdown",
   "id": "67d21b20",
   "metadata": {
    "slideshow": {
     "slide_type": "slide"
    }
   },
   "source": [
    "## Gauge Plot\n",
    "\n",
    "Plotly generiert einen Gauge Plot und erstellt den entsprechenden HTML Code."
   ]
  },
  {
   "cell_type": "code",
   "execution_count": null,
   "id": "29e0ac1b",
   "metadata": {
    "slideshow": {
     "slide_type": "fragment"
    }
   },
   "outputs": [],
   "source": [
    "# Gauge Plot Plotly\n",
    "        gaugePlot = go.Figure(go.Indicator(\n",
    "            mode = \"gauge+number\",\n",
    "            value = value,\n",
    "            number = {'valueformat': '2.2f', 'suffix': 'kW'},\n",
    "            domain = {'x': [0, 1], 'y': [0, 1]},\n",
    "            gauge = {'axis': {'range': [None, 5], 'tickwidth': 1, 'tickcolor': \"darkblue\"},\n",
    "                     'bar': {'color': \"darkblue\"},\n",
    "                     'bgcolor': \"white\",\n",
    "                     'borderwidth': 2,\n",
    "                     'bordercolor': \"gray\",\n",
    "                     'steps': [{'range': [0, 2.5], 'color': 'lightgreen'},\n",
    "                    {'range': [2.5, 4], 'color': 'lightyellow'}, {'range': [4, 5], 'color': 'lightcoral'}],\n",
    "                    'threshold': {\n",
    "                    'line': {'color': \"blue\", 'width': 4},\n",
    "                    'thickness': 0.75,\n",
    "                    'value': 20}}))\n",
    "        \n",
    "        gaugePlot.update_layout(paper_bgcolor = 'rgba(255, 0, 0, 0.0)', font = {'color': \"white\", 'family': \"Arial\"})\n",
    "        gaugeHTML = gaugePlot.to_html(config=None, full_html=False, div_id='streamGauge')"
   ]
  },
  {
   "cell_type": "markdown",
   "id": "32626e71",
   "metadata": {
    "slideshow": {
     "slide_type": "slide"
    }
   },
   "source": [
    "## Line Plot\n",
    "\n",
    "Bokeh generiert einen Line Plot, der die Zeitreihe darstellt."
   ]
  },
  {
   "cell_type": "code",
   "execution_count": null,
   "id": "41413ded",
   "metadata": {
    "slideshow": {
     "slide_type": "fragment"
    }
   },
   "outputs": [],
   "source": [
    "        # Lastprofil Plot Bokeh\n",
    "        x = df['datetime']\n",
    "        y = df['value']\n",
    "        p1 = figure(plot_width=500, plot_height=300, x_axis_type=\"datetime\", sizing_mode=\"scale_both\")\n",
    "        p1.title.text_color = \"black\"\n",
    "        p1.background_fill_color = \"white\"\n",
    "        p1.background_fill_alpha = 0.75\n",
    "        #p1.border_fill_alpha = 0.5\n",
    "        p1.xaxis.formatter = DatetimeTickFormatter(days=\"%d.%m.%y %H:%M\", months=\"%d.%m.%y %H:%M\", hours=\"%d.%m.%y %H:%M\", minutes=\"%d.%m.%y %H:%M\")\n",
    "        \n",
    "        p1.step(x, y, legend_label=\"Leistung\", line_width=3, color='coral', mode=\"center\")\n",
    "        p1.y_range = Range1d(0, 5)\n",
    "        \n",
    "        p1.xaxis.axis_label = \"Zeit\"\n",
    "        p1.yaxis.axis_label = \"kW\"\n",
    "        \n",
    "        \n",
    "        p1.toolbar.logo = None\n",
    "        \n",
    "        \n",
    "        script, div = components(p1)\n",
    "        tsPlot = script + div"
   ]
  },
  {
   "cell_type": "markdown",
   "id": "bc637cd8",
   "metadata": {
    "slideshow": {
     "slide_type": "slide"
    }
   },
   "source": [
    "Abschliessend erfolgt das Rendering durch Django."
   ]
  },
  {
   "cell_type": "code",
   "execution_count": null,
   "id": "9b6f9213",
   "metadata": {
    "slideshow": {
     "slide_type": "fragment"
    }
   },
   "outputs": [],
   "source": [
    "        return render(request, 'index.html', {'meterID': meterID, 'value': value, 'timestamp': timestamp, 'trStart': trStart, 'trEnd': trEnd, 'wDay' : wDay, 'gauge': gaugeHTML, 'tsPlot': tsPlot})\n",
    "        db.close()"
   ]
  }
 ],
 "metadata": {
  "celltoolbar": "Slideshow",
  "kernelspec": {
   "display_name": "Python 3 (ipykernel)",
   "language": "python",
   "name": "python3"
  },
  "language_info": {
   "codemirror_mode": {
    "name": "ipython",
    "version": 3
   },
   "file_extension": ".py",
   "mimetype": "text/x-python",
   "name": "python",
   "nbconvert_exporter": "python",
   "pygments_lexer": "ipython3",
   "version": "3.9.12"
  }
 },
 "nbformat": 4,
 "nbformat_minor": 5
}
