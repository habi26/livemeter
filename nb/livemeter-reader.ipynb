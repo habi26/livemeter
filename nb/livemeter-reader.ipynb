{
 "cells": [
  {
   "cell_type": "markdown",
   "id": "003c3d24",
   "metadata": {
    "slideshow": {
     "slide_type": "slide"
    }
   },
   "source": [
    "# Livemeter Reader\n",
    "\n",
    "Der Reader dient als Auslesekomponente, welche im Protokoll IEC 62056-21 mit einem Zähler des Fabrikats Elster kommuniziert.\n"
   ]
  },
  {
   "cell_type": "markdown",
   "id": "8abb4b47",
   "metadata": {
    "slideshow": {
     "slide_type": "fragment"
    }
   },
   "source": [
    "## Paketimport\n",
    "\n",
    "Als erstes werden die nötigen Python Pakete importiert."
   ]
  },
  {
   "cell_type": "code",
   "execution_count": null,
   "id": "1d2ddec1",
   "metadata": {
    "slideshow": {
     "slide_type": "fragment"
    }
   },
   "outputs": [],
   "source": [
    "import serial\n",
    "import time \n",
    "import MySQLdb\n",
    "import sshtunnel \n",
    "import pandas as pd\n",
    "from io import StringIO\n",
    "import datetime as dt"
   ]
  },
  {
   "cell_type": "markdown",
   "id": "eda9927f",
   "metadata": {
    "slideshow": {
     "slide_type": "slide"
    }
   },
   "source": [
    "## MySQL Verbindung\n",
    "\n",
    "Es wird innerhalb eines SSH Tunnels eine MySQL Verbindung geöffnet."
   ]
  },
  {
   "cell_type": "code",
   "execution_count": null,
   "id": "18d33d97",
   "metadata": {
    "slideshow": {
     "slide_type": "fragment"
    }
   },
   "outputs": [],
   "source": [
    "sshtunnel.SSH_TIMEOUT = 5.0\n",
    "sshtunnel.TUNNEL_TIMEOUT = 5.0\n",
    "\n",
    "with sshtunnel.SSHTunnelForwarder(\n",
    "    ('ssh.pythonanywhere.com'),\n",
    "    ssh_username='habi26', ssh_password='XXXXX',\n",
    "    remote_bind_address=('habi26.mysql.pythonanywhere-services.com', 3306)\n",
    ") as tunnel:\n",
    "    db = MySQLdb.connect(\n",
    "    host='127.0.0.1', port=tunnel.local_bind_port,\n",
    "    user='habi26',\n",
    "    passwd='XXXXXX',\n",
    "    db='habi26$livemeter'\n",
    "    )\n",
    "    \n",
    "    cursor = db.cursor()"
   ]
  },
  {
   "cell_type": "markdown",
   "id": "b4223282",
   "metadata": {
    "slideshow": {
     "slide_type": "slide"
    }
   },
   "source": [
    "## Definition Telegramme\n",
    "\n",
    "Die Telegramme werden definiert und in BYTE Objekte umgewandelt."
   ]
  },
  {
   "cell_type": "code",
   "execution_count": null,
   "id": "ce1c6edc",
   "metadata": {
    "slideshow": {
     "slide_type": "fragment"
    }
   },
   "outputs": [],
   "source": [
    "    msgEnd = '\\x03'\n",
    "    msgEndByte = msgEnd.encode('utf-8')\n",
    "    request = '/?!\\r\\n'\n",
    "    requestByte = request.encode('utf-8')\n",
    "    ack = '\\x06050\\r\\n'\n",
    "    ackByte = ack.encode('utf-8')"
   ]
  },
  {
   "cell_type": "markdown",
   "id": "1ba73942",
   "metadata": {
    "slideshow": {
     "slide_type": "slide"
    }
   },
   "source": [
    "## Serielle Verbindung\n",
    "\n",
    "Zur unendlichen Wiederholung der Ablesung ist der nachfolgende Code in einem While Loop verpackt.\n",
    "Zunächst wird die Verbindung zur seriellen Schnittstelle aufgebaut. Die Anfrage erfolgt mit 300 Baud."
   ]
  },
  {
   "cell_type": "code",
   "execution_count": null,
   "id": "7ded6617",
   "metadata": {
    "slideshow": {
     "slide_type": "fragment"
    }
   },
   "outputs": [],
   "source": [
    "    while True:\n",
    "        print('Verbindung wird hergestellt ...')\n",
    "        timeStart = dt.datetime.now()\n",
    "        print(timeStart.strftime(\"%d.%m.%Y %H:%M\"))\n",
    "        \n",
    "        port = serial.Serial(\n",
    "        port='/dev/ttyUSB0',\n",
    "        baudrate=300,\n",
    "        parity=serial.PARITY_EVEN,\n",
    "        stopbits=serial.STOPBITS_ONE,\n",
    "        bytesize=serial.SEVENBITS,\n",
    "        timeout=20\n",
    "        )"
   ]
  },
  {
   "cell_type": "markdown",
   "id": "e15a1dbe",
   "metadata": {
    "slideshow": {
     "slide_type": "slide"
    }
   },
   "source": [
    "Die Anfrage an den Zähler wird gesendet. Anschliessend wird mit der Zähleridentifikation geantwortet.\n",
    "Das Acknowledgement fordert die Übertragungsgeschwindigkeit 9600 Baud an.\n",
    "Nach einer kurzen Pause von 266ms geht es los. Die Rohdaten werden übertragen."
   ]
  },
  {
   "cell_type": "code",
   "execution_count": null,
   "id": "dda6002d",
   "metadata": {
    "slideshow": {
     "slide_type": "fragment"
    }
   },
   "outputs": [],
   "source": [
    "        print('Ablesung beginnt ...')\n",
    "        port.write(requestByte)\n",
    "        answereByte = port.readline()\n",
    "        print(answereByte.decode('utf-8'))\n",
    "        port.write(ackByte)\n",
    "        time.sleep(0.266)\n",
    "        port.baudrate = 9600\n",
    "        print('Baudrate auf 9600 umgeschaltet')\n",
    "        outputByte = port.read_until(expected=msgEndByte)\n",
    "        print(f'{dt.datetime.now()}Fertig')"
   ]
  },
  {
   "cell_type": "markdown",
   "id": "4c55bf83",
   "metadata": {
    "slideshow": {
     "slide_type": "slide"
    }
   },
   "source": [
    "## Rohdatenbereinigung\n",
    "\n",
    "Die erhaltenen Rohdaten werden bereinigt. Sonderzeichen werden entfernt.\n",
    "Anschliessend erfolgt der Import in ein Pandas DataFrame."
   ]
  },
  {
   "cell_type": "code",
   "execution_count": null,
   "id": "f5877962",
   "metadata": {
    "slideshow": {
     "slide_type": "fragment"
    }
   },
   "outputs": [],
   "source": [
    "        outputStr = outputByte.decode('utf-8')\n",
    "        dataStr = outputStr.replace('(', ';')\n",
    "        dataStr = dataStr.replace(')', '')\n",
    "        dataStr = dataStr.replace('*kWh','')\n",
    "        dataStr = dataStr.replace('*kW','')\n",
    "        dataStr = dataStr.replace('*kvar', '')\n",
    "        dataStr = dataStr.replace('h','')\n",
    "        dataStr = dataStr.replace('   ', '')\n",
    "        dataStr = dataStr.replace('\u0002', '')\n",
    "        df = pd.read_csv(StringIO(dataStr), sep=';', skiprows=0, skipfooter=0, header=None, engine='python', error_bad_lines=False)\n",
    "        df.rename(columns={0: 'obis', 1: 'value'}, inplace=True)\n",
    "        df = df.set_index(df['obis'])"
   ]
  },
  {
   "cell_type": "markdown",
   "id": "d61d65a5",
   "metadata": {
    "slideshow": {
     "slide_type": "slide"
    }
   },
   "source": [
    "## Datenexport\n",
    "\n",
    "Die benötigten Werte werden definiert und in die MySQL Datenbank geschrieben."
   ]
  },
  {
   "cell_type": "code",
   "execution_count": null,
   "id": "f93133d1",
   "metadata": {
    "slideshow": {
     "slide_type": "fragment"
    }
   },
   "outputs": [],
   "source": [
    "        timestamp = time.strftime(\"%Y-%m-%d %H:%M:%S\")\n",
    "        meterID = int(df.loc['0.0.0', 'value'])\n",
    "        powerValue = df.loc['1.7.0', 'value']\n",
    "    \n",
    "        sql = f\"INSERT INTO `meter_live_data` (`datetime`, `identity`, `value`) VALUES ('{timestamp}', '{meterID}', '{powerValue}');\"\n",
    "        cursor.execute(sql)\n",
    "        db.commit()"
   ]
  },
  {
   "cell_type": "markdown",
   "id": "330a4e30",
   "metadata": {
    "slideshow": {
     "slide_type": "slide"
    }
   },
   "source": [
    "Die Ablesung ist beendet! Es folgt eine Wartezeit von 5 Sekunden. Anschliessend wiederholt sich das Script."
   ]
  },
  {
   "cell_type": "code",
   "execution_count": null,
   "id": "fc9b0b85",
   "metadata": {
    "slideshow": {
     "slide_type": "fragment"
    }
   },
   "outputs": [],
   "source": [
    "        print(outputStr)\n",
    "        timeEnd = dt.datetime.now()\n",
    "        readingTime = timeEnd - timeStart\n",
    "        print(timeEnd.strftime(\"%d.%m.%Y %H:%M\"))\n",
    "        print(f'Auslesedauer: {readingTime}')\n",
    "        print('Warte 5 Sekunden ...')\n",
    "        time.sleep(5)"
   ]
  }
 ],
 "metadata": {
  "celltoolbar": "Slideshow",
  "kernelspec": {
   "display_name": "Python 3 (ipykernel)",
   "language": "python",
   "name": "python3"
  },
  "language_info": {
   "codemirror_mode": {
    "name": "ipython",
    "version": 3
   },
   "file_extension": ".py",
   "mimetype": "text/x-python",
   "name": "python",
   "nbconvert_exporter": "python",
   "pygments_lexer": "ipython3",
   "version": "3.9.13"
  }
 },
 "nbformat": 4,
 "nbformat_minor": 5
}
